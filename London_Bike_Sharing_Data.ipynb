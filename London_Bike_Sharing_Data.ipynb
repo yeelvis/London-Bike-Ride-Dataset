{
  "nbformat": 4,
  "nbformat_minor": 0,
  "metadata": {
    "colab": {
      "provenance": [],
      "authorship_tag": "ABX9TyOZkxz68UDoyzPRqbU+lLR1",
      "include_colab_link": true
    },
    "kernelspec": {
      "name": "python3",
      "display_name": "Python 3"
    },
    "language_info": {
      "name": "python"
    }
  },
  "cells": [
    {
      "cell_type": "markdown",
      "metadata": {
        "id": "view-in-github",
        "colab_type": "text"
      },
      "source": [
        "<a href=\"https://colab.research.google.com/github/yeelvis/London-Bike-Ride-Dataset/blob/main/London_Bike_Sharing_Data.ipynb\" target=\"_parent\"><img src=\"https://colab.research.google.com/assets/colab-badge.svg\" alt=\"Open In Colab\"/></a>"
      ]
    },
    {
      "cell_type": "code",
      "execution_count": null,
      "metadata": {
        "id": "OJ8MLejitGTZ"
      },
      "outputs": [],
      "source": [
        "# import library\n",
        "import pandas as pd"
      ]
    },
    {
      "cell_type": "code",
      "source": [
        "# import dataset\n",
        "\n",
        "df = pd.read_csv('https://raw.githubusercontent.com/yeelvis/London-Bike-Ride-Dataset/main/london_merged.csv')"
      ],
      "metadata": {
        "id": "XPaI98fhvWYq"
      },
      "execution_count": null,
      "outputs": []
    },
    {
      "cell_type": "code",
      "source": [
        "# inspect the data frame\n",
        "df.info()"
      ],
      "metadata": {
        "colab": {
          "base_uri": "https://localhost:8080/"
        },
        "id": "PXFZFju_vffz",
        "outputId": "50b763f9-39c6-4bec-bb09-a07c0031b72a"
      },
      "execution_count": null,
      "outputs": [
        {
          "output_type": "stream",
          "name": "stdout",
          "text": [
            "<class 'pandas.core.frame.DataFrame'>\n",
            "RangeIndex: 17414 entries, 0 to 17413\n",
            "Data columns (total 10 columns):\n",
            " #   Column        Non-Null Count  Dtype  \n",
            "---  ------        --------------  -----  \n",
            " 0   timestamp     17414 non-null  object \n",
            " 1   cnt           17414 non-null  int64  \n",
            " 2   t1            17414 non-null  float64\n",
            " 3   t2            17414 non-null  float64\n",
            " 4   hum           17414 non-null  float64\n",
            " 5   wind_speed    17414 non-null  float64\n",
            " 6   weather_code  17414 non-null  float64\n",
            " 7   is_holiday    17414 non-null  float64\n",
            " 8   is_weekend    17414 non-null  float64\n",
            " 9   season        17414 non-null  float64\n",
            "dtypes: float64(8), int64(1), object(1)\n",
            "memory usage: 1.3+ MB\n",
            "None\n"
          ]
        }
      ]
    },
    {
      "cell_type": "code",
      "source": [
        "# count the unique values in the weater_code column\n",
        "df.weather_code.value_counts()"
      ],
      "metadata": {
        "colab": {
          "base_uri": "https://localhost:8080/"
        },
        "id": "oqSBdRcQvuNs",
        "outputId": "7c7191e2-7f8e-4236-c569-6b21ee737c88"
      },
      "execution_count": null,
      "outputs": [
        {
          "output_type": "execute_result",
          "data": {
            "text/plain": [
              "weather_code\n",
              "1.0     6150\n",
              "2.0     4034\n",
              "3.0     3551\n",
              "7.0     2141\n",
              "4.0     1464\n",
              "26.0      60\n",
              "10.0      14\n",
              "Name: count, dtype: int64"
            ]
          },
          "metadata": {},
          "execution_count": 5
        }
      ]
    },
    {
      "cell_type": "code",
      "source": [
        "# count the unique values in the season column\n",
        "df.season.value_counts()"
      ],
      "metadata": {
        "colab": {
          "base_uri": "https://localhost:8080/"
        },
        "id": "0p-bJAOOv39P",
        "outputId": "af56cc77-eed8-484d-9cb2-c91f02db0d39"
      },
      "execution_count": null,
      "outputs": [
        {
          "output_type": "execute_result",
          "data": {
            "text/plain": [
              "season\n",
              "0.0    4394\n",
              "1.0    4387\n",
              "3.0    4330\n",
              "2.0    4303\n",
              "Name: count, dtype: int64"
            ]
          },
          "metadata": {},
          "execution_count": 6
        }
      ]
    },
    {
      "cell_type": "code",
      "source": [
        "# specify and rename the column names\n",
        "\n",
        "new_col_dict = {\n",
        "    'timestamp': 'time',\n",
        "    'cnt': 'count',\n",
        "    't1': 'temp_real_C',\n",
        "    't2': 'temp_feels_like_C',\n",
        "    'hum': 'humidity_percent',\n",
        "    'wind_speed': 'wind_speed_kph',\n",
        "    'weather_code': 'weather',\n",
        "    'is_holiday': 'is_holiday',\n",
        "    'is_weekend': 'is_weekend',\n",
        "    'season': 'season'\n",
        "}\n",
        "\n",
        "df.rename(new_col_dict, axis=1, inplace=True)"
      ],
      "metadata": {
        "id": "rFjoR91SwBYk"
      },
      "execution_count": null,
      "outputs": []
    },
    {
      "cell_type": "code",
      "source": [
        "# check renamed columns\n",
        "df.info()"
      ],
      "metadata": {
        "colab": {
          "base_uri": "https://localhost:8080/"
        },
        "id": "XiP6Qs0lwtKU",
        "outputId": "2bc0ed47-981a-4a88-d7cf-b3c9150c2654"
      },
      "execution_count": null,
      "outputs": [
        {
          "output_type": "stream",
          "name": "stdout",
          "text": [
            "<class 'pandas.core.frame.DataFrame'>\n",
            "RangeIndex: 17414 entries, 0 to 17413\n",
            "Data columns (total 10 columns):\n",
            " #   Column             Non-Null Count  Dtype  \n",
            "---  ------             --------------  -----  \n",
            " 0   time               17414 non-null  object \n",
            " 1   count              17414 non-null  int64  \n",
            " 2   temp_real_C        17414 non-null  float64\n",
            " 3   temp_feels_like_C  17414 non-null  float64\n",
            " 4   humidity_percent   17414 non-null  float64\n",
            " 5   wind_speed_kph     17414 non-null  float64\n",
            " 6   weather            17414 non-null  float64\n",
            " 7   is_holiday         17414 non-null  float64\n",
            " 8   is_weekend         17414 non-null  float64\n",
            " 9   season             17414 non-null  float64\n",
            "dtypes: float64(8), int64(1), object(1)\n",
            "memory usage: 1.3+ MB\n"
          ]
        }
      ]
    },
    {
      "cell_type": "code",
      "source": [
        "# convert humidity value from percentage to decimal\n",
        "\n",
        "df.humidity_percent = df.humidity_percent / 100"
      ],
      "metadata": {
        "id": "k6sE-NzcwxFZ"
      },
      "execution_count": null,
      "outputs": []
    },
    {
      "cell_type": "code",
      "source": [
        "# convert season code to values\n",
        "\n",
        "season_dict ={\n",
        "    '0.0': 'spring',\n",
        "    '1.0': 'summer',\n",
        "    '2.0': 'autumn',\n",
        "    '3.0': 'winter',\n",
        "}\n",
        "\n",
        "# convert weather code to values\n",
        "\n",
        "weather_dict = {\n",
        "    '1.0': 'Clear',\n",
        "    '2.0': 'Scattered clouds',\n",
        "    '3.0': 'Broken clouds',\n",
        "    '4.0': 'Cloudy',\n",
        "    '7.0': 'Rain',\n",
        "    '10.0': 'Rain with thunderstorm',\n",
        "    '26.0': 'Snowfall'\n",
        "}\n",
        "\n",
        "df.season = df.season.astype('str')\n",
        "df.season = df.season.map(season_dict)\n",
        "\n",
        "df.weather = df.weather.astype('str')\n",
        "df.weather = df.weather.map(weather_dict)"
      ],
      "metadata": {
        "id": "FZAJM1nQxGvi"
      },
      "execution_count": null,
      "outputs": []
    },
    {
      "cell_type": "code",
      "source": [
        "df.head()"
      ],
      "metadata": {
        "colab": {
          "base_uri": "https://localhost:8080/",
          "height": 399
        },
        "id": "QnNZfaxJyR6n",
        "outputId": "1702b025-e3ed-4fc1-d975-704c50ae4a88"
      },
      "execution_count": null,
      "outputs": [
        {
          "output_type": "execute_result",
          "data": {
            "text/plain": [
              "                  time  count  temp_real_C  temp_feels_like_C  \\\n",
              "0  2015-01-04 00:00:00    182          3.0                2.0   \n",
              "1  2015-01-04 01:00:00    138          3.0                2.5   \n",
              "2  2015-01-04 02:00:00    134          2.5                2.5   \n",
              "3  2015-01-04 03:00:00     72          2.0                2.0   \n",
              "4  2015-01-04 04:00:00     47          2.0                0.0   \n",
              "\n",
              "   humidity_percent  wind_speed_kph        weather  is_holiday  is_weekend  \\\n",
              "0             0.930             6.0  Broken clouds         0.0         1.0   \n",
              "1             0.930             5.0          Clear         0.0         1.0   \n",
              "2             0.965             0.0          Clear         0.0         1.0   \n",
              "3             1.000             0.0          Clear         0.0         1.0   \n",
              "4             0.930             6.5          Clear         0.0         1.0   \n",
              "\n",
              "   season  \n",
              "0  winter  \n",
              "1  winter  \n",
              "2  winter  \n",
              "3  winter  \n",
              "4  winter  "
            ],
            "text/html": [
              "\n",
              "  <div id=\"df-3347e62d-b362-4efc-a37d-7e00df205b19\" class=\"colab-df-container\">\n",
              "    <div>\n",
              "<style scoped>\n",
              "    .dataframe tbody tr th:only-of-type {\n",
              "        vertical-align: middle;\n",
              "    }\n",
              "\n",
              "    .dataframe tbody tr th {\n",
              "        vertical-align: top;\n",
              "    }\n",
              "\n",
              "    .dataframe thead th {\n",
              "        text-align: right;\n",
              "    }\n",
              "</style>\n",
              "<table border=\"1\" class=\"dataframe\">\n",
              "  <thead>\n",
              "    <tr style=\"text-align: right;\">\n",
              "      <th></th>\n",
              "      <th>time</th>\n",
              "      <th>count</th>\n",
              "      <th>temp_real_C</th>\n",
              "      <th>temp_feels_like_C</th>\n",
              "      <th>humidity_percent</th>\n",
              "      <th>wind_speed_kph</th>\n",
              "      <th>weather</th>\n",
              "      <th>is_holiday</th>\n",
              "      <th>is_weekend</th>\n",
              "      <th>season</th>\n",
              "    </tr>\n",
              "  </thead>\n",
              "  <tbody>\n",
              "    <tr>\n",
              "      <th>0</th>\n",
              "      <td>2015-01-04 00:00:00</td>\n",
              "      <td>182</td>\n",
              "      <td>3.0</td>\n",
              "      <td>2.0</td>\n",
              "      <td>0.930</td>\n",
              "      <td>6.0</td>\n",
              "      <td>Broken clouds</td>\n",
              "      <td>0.0</td>\n",
              "      <td>1.0</td>\n",
              "      <td>winter</td>\n",
              "    </tr>\n",
              "    <tr>\n",
              "      <th>1</th>\n",
              "      <td>2015-01-04 01:00:00</td>\n",
              "      <td>138</td>\n",
              "      <td>3.0</td>\n",
              "      <td>2.5</td>\n",
              "      <td>0.930</td>\n",
              "      <td>5.0</td>\n",
              "      <td>Clear</td>\n",
              "      <td>0.0</td>\n",
              "      <td>1.0</td>\n",
              "      <td>winter</td>\n",
              "    </tr>\n",
              "    <tr>\n",
              "      <th>2</th>\n",
              "      <td>2015-01-04 02:00:00</td>\n",
              "      <td>134</td>\n",
              "      <td>2.5</td>\n",
              "      <td>2.5</td>\n",
              "      <td>0.965</td>\n",
              "      <td>0.0</td>\n",
              "      <td>Clear</td>\n",
              "      <td>0.0</td>\n",
              "      <td>1.0</td>\n",
              "      <td>winter</td>\n",
              "    </tr>\n",
              "    <tr>\n",
              "      <th>3</th>\n",
              "      <td>2015-01-04 03:00:00</td>\n",
              "      <td>72</td>\n",
              "      <td>2.0</td>\n",
              "      <td>2.0</td>\n",
              "      <td>1.000</td>\n",
              "      <td>0.0</td>\n",
              "      <td>Clear</td>\n",
              "      <td>0.0</td>\n",
              "      <td>1.0</td>\n",
              "      <td>winter</td>\n",
              "    </tr>\n",
              "    <tr>\n",
              "      <th>4</th>\n",
              "      <td>2015-01-04 04:00:00</td>\n",
              "      <td>47</td>\n",
              "      <td>2.0</td>\n",
              "      <td>0.0</td>\n",
              "      <td>0.930</td>\n",
              "      <td>6.5</td>\n",
              "      <td>Clear</td>\n",
              "      <td>0.0</td>\n",
              "      <td>1.0</td>\n",
              "      <td>winter</td>\n",
              "    </tr>\n",
              "  </tbody>\n",
              "</table>\n",
              "</div>\n",
              "    <div class=\"colab-df-buttons\">\n",
              "\n",
              "  <div class=\"colab-df-container\">\n",
              "    <button class=\"colab-df-convert\" onclick=\"convertToInteractive('df-3347e62d-b362-4efc-a37d-7e00df205b19')\"\n",
              "            title=\"Convert this dataframe to an interactive table.\"\n",
              "            style=\"display:none;\">\n",
              "\n",
              "  <svg xmlns=\"http://www.w3.org/2000/svg\" height=\"24px\" viewBox=\"0 -960 960 960\">\n",
              "    <path d=\"M120-120v-720h720v720H120Zm60-500h600v-160H180v160Zm220 220h160v-160H400v160Zm0 220h160v-160H400v160ZM180-400h160v-160H180v160Zm440 0h160v-160H620v160ZM180-180h160v-160H180v160Zm440 0h160v-160H620v160Z\"/>\n",
              "  </svg>\n",
              "    </button>\n",
              "\n",
              "  <style>\n",
              "    .colab-df-container {\n",
              "      display:flex;\n",
              "      gap: 12px;\n",
              "    }\n",
              "\n",
              "    .colab-df-convert {\n",
              "      background-color: #E8F0FE;\n",
              "      border: none;\n",
              "      border-radius: 50%;\n",
              "      cursor: pointer;\n",
              "      display: none;\n",
              "      fill: #1967D2;\n",
              "      height: 32px;\n",
              "      padding: 0 0 0 0;\n",
              "      width: 32px;\n",
              "    }\n",
              "\n",
              "    .colab-df-convert:hover {\n",
              "      background-color: #E2EBFA;\n",
              "      box-shadow: 0px 1px 2px rgba(60, 64, 67, 0.3), 0px 1px 3px 1px rgba(60, 64, 67, 0.15);\n",
              "      fill: #174EA6;\n",
              "    }\n",
              "\n",
              "    .colab-df-buttons div {\n",
              "      margin-bottom: 4px;\n",
              "    }\n",
              "\n",
              "    [theme=dark] .colab-df-convert {\n",
              "      background-color: #3B4455;\n",
              "      fill: #D2E3FC;\n",
              "    }\n",
              "\n",
              "    [theme=dark] .colab-df-convert:hover {\n",
              "      background-color: #434B5C;\n",
              "      box-shadow: 0px 1px 3px 1px rgba(0, 0, 0, 0.15);\n",
              "      filter: drop-shadow(0px 1px 2px rgba(0, 0, 0, 0.3));\n",
              "      fill: #FFFFFF;\n",
              "    }\n",
              "  </style>\n",
              "\n",
              "    <script>\n",
              "      const buttonEl =\n",
              "        document.querySelector('#df-3347e62d-b362-4efc-a37d-7e00df205b19 button.colab-df-convert');\n",
              "      buttonEl.style.display =\n",
              "        google.colab.kernel.accessAllowed ? 'block' : 'none';\n",
              "\n",
              "      async function convertToInteractive(key) {\n",
              "        const element = document.querySelector('#df-3347e62d-b362-4efc-a37d-7e00df205b19');\n",
              "        const dataTable =\n",
              "          await google.colab.kernel.invokeFunction('convertToInteractive',\n",
              "                                                    [key], {});\n",
              "        if (!dataTable) return;\n",
              "\n",
              "        const docLinkHtml = 'Like what you see? Visit the ' +\n",
              "          '<a target=\"_blank\" href=https://colab.research.google.com/notebooks/data_table.ipynb>data table notebook</a>'\n",
              "          + ' to learn more about interactive tables.';\n",
              "        element.innerHTML = '';\n",
              "        dataTable['output_type'] = 'display_data';\n",
              "        await google.colab.output.renderOutput(dataTable, element);\n",
              "        const docLink = document.createElement('div');\n",
              "        docLink.innerHTML = docLinkHtml;\n",
              "        element.appendChild(docLink);\n",
              "      }\n",
              "    </script>\n",
              "  </div>\n",
              "\n",
              "\n",
              "<div id=\"df-246e4917-859e-4436-855e-78d1eb4d9d9d\">\n",
              "  <button class=\"colab-df-quickchart\" onclick=\"quickchart('df-246e4917-859e-4436-855e-78d1eb4d9d9d')\"\n",
              "            title=\"Suggest charts\"\n",
              "            style=\"display:none;\">\n",
              "\n",
              "<svg xmlns=\"http://www.w3.org/2000/svg\" height=\"24px\"viewBox=\"0 0 24 24\"\n",
              "     width=\"24px\">\n",
              "    <g>\n",
              "        <path d=\"M19 3H5c-1.1 0-2 .9-2 2v14c0 1.1.9 2 2 2h14c1.1 0 2-.9 2-2V5c0-1.1-.9-2-2-2zM9 17H7v-7h2v7zm4 0h-2V7h2v10zm4 0h-2v-4h2v4z\"/>\n",
              "    </g>\n",
              "</svg>\n",
              "  </button>\n",
              "\n",
              "<style>\n",
              "  .colab-df-quickchart {\n",
              "      --bg-color: #E8F0FE;\n",
              "      --fill-color: #1967D2;\n",
              "      --hover-bg-color: #E2EBFA;\n",
              "      --hover-fill-color: #174EA6;\n",
              "      --disabled-fill-color: #AAA;\n",
              "      --disabled-bg-color: #DDD;\n",
              "  }\n",
              "\n",
              "  [theme=dark] .colab-df-quickchart {\n",
              "      --bg-color: #3B4455;\n",
              "      --fill-color: #D2E3FC;\n",
              "      --hover-bg-color: #434B5C;\n",
              "      --hover-fill-color: #FFFFFF;\n",
              "      --disabled-bg-color: #3B4455;\n",
              "      --disabled-fill-color: #666;\n",
              "  }\n",
              "\n",
              "  .colab-df-quickchart {\n",
              "    background-color: var(--bg-color);\n",
              "    border: none;\n",
              "    border-radius: 50%;\n",
              "    cursor: pointer;\n",
              "    display: none;\n",
              "    fill: var(--fill-color);\n",
              "    height: 32px;\n",
              "    padding: 0;\n",
              "    width: 32px;\n",
              "  }\n",
              "\n",
              "  .colab-df-quickchart:hover {\n",
              "    background-color: var(--hover-bg-color);\n",
              "    box-shadow: 0 1px 2px rgba(60, 64, 67, 0.3), 0 1px 3px 1px rgba(60, 64, 67, 0.15);\n",
              "    fill: var(--button-hover-fill-color);\n",
              "  }\n",
              "\n",
              "  .colab-df-quickchart-complete:disabled,\n",
              "  .colab-df-quickchart-complete:disabled:hover {\n",
              "    background-color: var(--disabled-bg-color);\n",
              "    fill: var(--disabled-fill-color);\n",
              "    box-shadow: none;\n",
              "  }\n",
              "\n",
              "  .colab-df-spinner {\n",
              "    border: 2px solid var(--fill-color);\n",
              "    border-color: transparent;\n",
              "    border-bottom-color: var(--fill-color);\n",
              "    animation:\n",
              "      spin 1s steps(1) infinite;\n",
              "  }\n",
              "\n",
              "  @keyframes spin {\n",
              "    0% {\n",
              "      border-color: transparent;\n",
              "      border-bottom-color: var(--fill-color);\n",
              "      border-left-color: var(--fill-color);\n",
              "    }\n",
              "    20% {\n",
              "      border-color: transparent;\n",
              "      border-left-color: var(--fill-color);\n",
              "      border-top-color: var(--fill-color);\n",
              "    }\n",
              "    30% {\n",
              "      border-color: transparent;\n",
              "      border-left-color: var(--fill-color);\n",
              "      border-top-color: var(--fill-color);\n",
              "      border-right-color: var(--fill-color);\n",
              "    }\n",
              "    40% {\n",
              "      border-color: transparent;\n",
              "      border-right-color: var(--fill-color);\n",
              "      border-top-color: var(--fill-color);\n",
              "    }\n",
              "    60% {\n",
              "      border-color: transparent;\n",
              "      border-right-color: var(--fill-color);\n",
              "    }\n",
              "    80% {\n",
              "      border-color: transparent;\n",
              "      border-right-color: var(--fill-color);\n",
              "      border-bottom-color: var(--fill-color);\n",
              "    }\n",
              "    90% {\n",
              "      border-color: transparent;\n",
              "      border-bottom-color: var(--fill-color);\n",
              "    }\n",
              "  }\n",
              "</style>\n",
              "\n",
              "  <script>\n",
              "    async function quickchart(key) {\n",
              "      const quickchartButtonEl =\n",
              "        document.querySelector('#' + key + ' button');\n",
              "      quickchartButtonEl.disabled = true;  // To prevent multiple clicks.\n",
              "      quickchartButtonEl.classList.add('colab-df-spinner');\n",
              "      try {\n",
              "        const charts = await google.colab.kernel.invokeFunction(\n",
              "            'suggestCharts', [key], {});\n",
              "      } catch (error) {\n",
              "        console.error('Error during call to suggestCharts:', error);\n",
              "      }\n",
              "      quickchartButtonEl.classList.remove('colab-df-spinner');\n",
              "      quickchartButtonEl.classList.add('colab-df-quickchart-complete');\n",
              "    }\n",
              "    (() => {\n",
              "      let quickchartButtonEl =\n",
              "        document.querySelector('#df-246e4917-859e-4436-855e-78d1eb4d9d9d button');\n",
              "      quickchartButtonEl.style.display =\n",
              "        google.colab.kernel.accessAllowed ? 'block' : 'none';\n",
              "    })();\n",
              "  </script>\n",
              "</div>\n",
              "\n",
              "    </div>\n",
              "  </div>\n"
            ],
            "application/vnd.google.colaboratory.intrinsic+json": {
              "type": "dataframe",
              "variable_name": "df",
              "summary": "{\n  \"name\": \"df\",\n  \"rows\": 17414,\n  \"fields\": [\n    {\n      \"column\": \"time\",\n      \"properties\": {\n        \"dtype\": \"object\",\n        \"num_unique_values\": 17414,\n        \"samples\": [\n          \"2016-08-17 04:00:00\",\n          \"2016-04-08 07:00:00\",\n          \"2015-11-10 00:00:00\"\n        ],\n        \"semantic_type\": \"\",\n        \"description\": \"\"\n      }\n    },\n    {\n      \"column\": \"count\",\n      \"properties\": {\n        \"dtype\": \"number\",\n        \"std\": 1085,\n        \"min\": 0,\n        \"max\": 7860,\n        \"num_unique_values\": 3781,\n        \"samples\": [\n          1417,\n          2143,\n          3979\n        ],\n        \"semantic_type\": \"\",\n        \"description\": \"\"\n      }\n    },\n    {\n      \"column\": \"temp_real_C\",\n      \"properties\": {\n        \"dtype\": \"number\",\n        \"std\": 5.571817562920526,\n        \"min\": -1.5,\n        \"max\": 34.0,\n        \"num_unique_values\": 73,\n        \"samples\": [\n          1.5,\n          33.5,\n          4.5\n        ],\n        \"semantic_type\": \"\",\n        \"description\": \"\"\n      }\n    },\n    {\n      \"column\": \"temp_feels_like_C\",\n      \"properties\": {\n        \"dtype\": \"number\",\n        \"std\": 6.615144673127893,\n        \"min\": -6.0,\n        \"max\": 34.0,\n        \"num_unique_values\": 82,\n        \"samples\": [\n          14.0,\n          2.0,\n          11.5\n        ],\n        \"semantic_type\": \"\",\n        \"description\": \"\"\n      }\n    },\n    {\n      \"column\": \"humidity_percent\",\n      \"properties\": {\n        \"dtype\": \"number\",\n        \"std\": 0.14313186095310976,\n        \"min\": 0.205,\n        \"max\": 1.0,\n        \"num_unique_values\": 143,\n        \"samples\": [\n          0.295,\n          0.715,\n          0.4\n        ],\n        \"semantic_type\": \"\",\n        \"description\": \"\"\n      }\n    },\n    {\n      \"column\": \"wind_speed_kph\",\n      \"properties\": {\n        \"dtype\": \"number\",\n        \"std\": 7.894570329361161,\n        \"min\": 0.0,\n        \"max\": 56.5,\n        \"num_unique_values\": 103,\n        \"samples\": [\n          30.0,\n          2.0,\n          23.5\n        ],\n        \"semantic_type\": \"\",\n        \"description\": \"\"\n      }\n    },\n    {\n      \"column\": \"weather\",\n      \"properties\": {\n        \"dtype\": \"category\",\n        \"num_unique_values\": 7,\n        \"samples\": [\n          \"Broken clouds\",\n          \"Clear\",\n          \"Snowfall\"\n        ],\n        \"semantic_type\": \"\",\n        \"description\": \"\"\n      }\n    },\n    {\n      \"column\": \"is_holiday\",\n      \"properties\": {\n        \"dtype\": \"number\",\n        \"std\": 0.1468543671527596,\n        \"min\": 0.0,\n        \"max\": 1.0,\n        \"num_unique_values\": 2,\n        \"samples\": [\n          1.0,\n          0.0\n        ],\n        \"semantic_type\": \"\",\n        \"description\": \"\"\n      }\n    },\n    {\n      \"column\": \"is_weekend\",\n      \"properties\": {\n        \"dtype\": \"number\",\n        \"std\": 0.45161891757102296,\n        \"min\": 0.0,\n        \"max\": 1.0,\n        \"num_unique_values\": 2,\n        \"samples\": [\n          0.0,\n          1.0\n        ],\n        \"semantic_type\": \"\",\n        \"description\": \"\"\n      }\n    },\n    {\n      \"column\": \"season\",\n      \"properties\": {\n        \"dtype\": \"category\",\n        \"num_unique_values\": 4,\n        \"samples\": [\n          \"spring\",\n          \"autumn\"\n        ],\n        \"semantic_type\": \"\",\n        \"description\": \"\"\n      }\n    }\n  ]\n}"
            }
          },
          "metadata": {},
          "execution_count": 15
        }
      ]
    },
    {
      "cell_type": "code",
      "source": [
        "df.to_excel('london_bikes_final.xlsx', sheet_name='Data')"
      ],
      "metadata": {
        "id": "czHIWlrry3fN"
      },
      "execution_count": null,
      "outputs": []
    }
  ]
}